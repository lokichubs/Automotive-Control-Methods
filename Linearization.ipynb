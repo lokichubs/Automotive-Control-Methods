{
 "cells": [
  {
   "cell_type": "markdown",
   "id": "2162370b",
   "metadata": {},
   "source": [
    "## Linearization"
   ]
  },
  {
   "cell_type": "code",
   "execution_count": 1,
   "id": "ba685d6f",
   "metadata": {},
   "outputs": [
    {
     "name": "stdout",
     "output_type": "stream",
     "text": [
      "A1 (lateral system matrix):\n"
     ]
    },
    {
     "data": {
      "text/latex": [
       "$\\displaystyle \\left[\\begin{matrix}0 & 1 & 0 & 0\\\\0 & - \\frac{4 C_{\\alpha}}{\\dot{x} m} & 0 & \\frac{2 C_{\\alpha} \\left(- \\frac{l_{f}}{\\dot{x}} + \\frac{l_{r}}{\\dot{x}}\\right)}{m} - \\dot{x}\\\\0 & 0 & 0 & 1\\\\0 & - \\frac{2 C_{\\alpha} l_{f}}{Iz \\dot{x}} + \\frac{2 C_{\\alpha} l_{r}}{Iz \\dot{x}} & 0 & - \\frac{2 C_{\\alpha} l_{f}^{2}}{Iz \\dot{x}} - \\frac{2 C_{\\alpha} l_{r}^{2}}{Iz \\dot{x}}\\end{matrix}\\right]$"
      ],
      "text/plain": [
       "⎡0               1                0                     0                    ⎤\n",
       "⎢                                                                            ⎥\n",
       "⎢                                             ⎛    l_f        lᵣ  ⎞          ⎥\n",
       "⎢                                    2⋅Cₐₗₚₕₐ⋅⎜- ─────── + ───────⎟          ⎥\n",
       "⎢            -4⋅Cₐₗₚₕₐ                        ⎝  \\dot{x}   \\dot{x}⎠          ⎥\n",
       "⎢0           ──────────           0  ────────────────────────────── - \\dot{x}⎥\n",
       "⎢            \\dot{x}⋅m                             m                         ⎥\n",
       "⎢                                                                            ⎥\n",
       "⎢0               0                0                     1                    ⎥\n",
       "⎢                                                                            ⎥\n",
       "⎢                                                       2              2     ⎥\n",
       "⎢     2⋅Cₐₗₚₕₐ⋅l_f   2⋅Cₐₗₚₕₐ⋅lᵣ            2⋅Cₐₗₚₕₐ⋅l_f    2⋅Cₐₗₚₕₐ⋅lᵣ      ⎥\n",
       "⎢0  - ──────────── + ───────────  0       - ───────────── - ────────────     ⎥\n",
       "⎣      Iz⋅\\dot{x}     Iz⋅\\dot{x}              Iz⋅\\dot{x}     Iz⋅\\dot{x}      ⎦"
      ]
     },
     "metadata": {},
     "output_type": "display_data"
    },
    {
     "name": "stdout",
     "output_type": "stream",
     "text": [
      "\n",
      "B1 (lateral input matrix):\n"
     ]
    },
    {
     "data": {
      "text/latex": [
       "$\\displaystyle \\left[\\begin{matrix}0 & 0\\\\\\frac{2 C_{\\alpha} \\left(- \\left(\\delta - \\frac{\\dot{\\psi} l_{f} + \\dot{y}}{\\dot{x}}\\right) \\sin{\\left(\\delta \\right)} + 1\\right)}{m} & 0\\\\0 & 0\\\\\\frac{2 C_{\\alpha} l_{f}}{Iz} & 0\\end{matrix}\\right]$"
      ],
      "text/plain": [
       "⎡                               0                                  0⎤\n",
       "⎢                                                                   ⎥\n",
       "⎢         ⎛  ⎛         \\dot{\\psi}⋅l_f + \\dot{y}⎞                ⎞   ⎥\n",
       "⎢2⋅Cₐₗₚₕₐ⋅⎜- ⎜\\delta - ────────────────────────⎟⋅sin(\\delta) + 1⎟   ⎥\n",
       "⎢         ⎝  ⎝                 \\dot{x}         ⎠                ⎠   ⎥\n",
       "⎢────────────────────────────────────────────────────────────────  0⎥\n",
       "⎢                               m                                   ⎥\n",
       "⎢                                                                   ⎥\n",
       "⎢                               0                                  0⎥\n",
       "⎢                                                                   ⎥\n",
       "⎢                          2⋅Cₐₗₚₕₐ⋅l_f                             ⎥\n",
       "⎢                          ────────────                            0⎥\n",
       "⎣                               Iz                                  ⎦"
      ]
     },
     "metadata": {},
     "output_type": "display_data"
    },
    {
     "name": "stdout",
     "output_type": "stream",
     "text": [
      "\n",
      "A2 (longitudinal system matrix):\n"
     ]
    },
    {
     "data": {
      "text/latex": [
       "$\\displaystyle \\left[\\begin{matrix}0 & 1\\\\0 & 0\\end{matrix}\\right]$"
      ],
      "text/plain": [
       "⎡0  1⎤\n",
       "⎢    ⎥\n",
       "⎣0  0⎦"
      ]
     },
     "metadata": {},
     "output_type": "display_data"
    },
    {
     "name": "stdout",
     "output_type": "stream",
     "text": [
      "\n",
      "B2 (longitudinal input matrix):\n"
     ]
    },
    {
     "data": {
      "text/latex": [
       "$\\displaystyle \\left[\\begin{matrix}0 & 0\\\\0 & \\frac{1}{m}\\end{matrix}\\right]$"
      ],
      "text/plain": [
       "⎡0  0⎤\n",
       "⎢    ⎥\n",
       "⎢   1⎥\n",
       "⎢0  ─⎥\n",
       "⎣   m⎦"
      ]
     },
     "metadata": {},
     "output_type": "display_data"
    },
    {
     "name": "stdout",
     "output_type": "stream",
     "text": [
      "\n",
      "Disturbance term:\n"
     ]
    },
    {
     "data": {
      "image/png": "[encoded data removed]",
      "text/latex": [
       "$\\displaystyle \\dot{\\psi} \\dot{y} - \\frac{f g}{m}$"
      ],
      "text/plain": [
       "                     f⋅g\n",
       "\\dot{\\psi}⋅\\dot{y} - ───\n",
       "                      m "
      ]
     },
     "metadata": {},
     "output_type": "display_data"
    }
   ],
   "source": [
    "import sympy as sp\n",
    "from IPython.display import display\n",
    "\n",
    "# Enable LaTeX pretty printing\n",
    "sp.init_printing(use_latex=True)\n",
    "\n",
    "# Define symbols for lateral and longitudinal dynamics with LaTeX names\n",
    "y = sp.symbols('y')\n",
    "y_dot = sp.symbols(r'\\dot{y}')\n",
    "psi = sp.symbols(r'\\psi')\n",
    "psi_dot = sp.symbols(r'\\dot{\\psi}')\n",
    "x = sp.symbols('x')\n",
    "x_dot = sp.symbols(r'\\dot{x}')  # longitudinal velocity with LaTeX dot\n",
    "\n",
    "delta, F = sp.symbols(r'\\delta F')  # inputs\n",
    "\n",
    "# Vehicle parameters\n",
    "m, Iz, lf, lr, Ca, fm, g = sp.symbols('m Iz l_f l_r C_alpha f g')  # FIXED: use C_alpha, not C_\\alpha\n",
    "\n",
    "# Replace vx with x_dot (longitudinal velocity is the second state)\n",
    "vx = x_dot\n",
    "\n",
    "# --- Lateral nonlinear dynamics with vx = x_dot ---\n",
    "y_ddot = -psi_dot * vx + (2*Ca/m) * (sp.cos(delta)*(delta - (y_dot + lf*psi_dot)/vx) - (y_dot - lr*psi_dot)/vx)\n",
    "psi_ddot = (2*lf*Ca/Iz) * (delta - (y_dot + lf*psi_dot)/vx) - (2*lr*Ca/Iz) * (-(y_dot - lr*psi_dot)/vx)\n",
    "\n",
    "# Lateral state and input vectors\n",
    "s1 = sp.Matrix([y, y_dot, psi, psi_dot])\n",
    "u = sp.Matrix([delta, F])\n",
    "\n",
    "# Lateral nonlinear state derivative\n",
    "f1 = sp.Matrix([y_dot, y_ddot, psi_dot, psi_ddot])\n",
    "\n",
    "# Jacobians lateral\n",
    "A1 = f1.jacobian(s1)\n",
    "B1 = f1.jacobian(u)\n",
    "\n",
    "# Small angle approx cos(delta) ~ 1\n",
    "A1_lin = A1.subs(sp.cos(delta), 1)\n",
    "B1_lin = B1.subs(sp.cos(delta), 1)\n",
    "\n",
    "print(\"A1 (lateral system matrix):\")\n",
    "display(A1_lin)\n",
    "\n",
    "print(\"\\nB1 (lateral input matrix):\")\n",
    "display(B1_lin)\n",
    "\n",
    "# --- Longitudinal nonlinear dynamics ---\n",
    "# Assume lateral states y, y_dot, psi, psi_dot are constant during longitudinal linearization\n",
    "# Longitudinal states and inputs\n",
    "s2 = sp.Matrix([x, x_dot])\n",
    "\n",
    "# Define disturbance term from lateral coupling and rolling resistance\n",
    "disturbance = psi_dot * y_dot - (fm * g) / m\n",
    "\n",
    "# Longitudinal nonlinear state derivative\n",
    "f2 = sp.Matrix([\n",
    "    x_dot,\n",
    "    disturbance + (1/m) * (F)  # no dependence on delta for x_ddot here\n",
    "])\n",
    "\n",
    "# Jacobians longitudinal\n",
    "A2 = f2.jacobian(s2)\n",
    "B2 = f2.jacobian(u)  # u = [delta, F], delta no effect on x_ddot\n",
    "\n",
    "print(\"\\nA2 (longitudinal system matrix):\")\n",
    "display(A2)\n",
    "\n",
    "print(\"\\nB2 (longitudinal input matrix):\")\n",
    "display(B2)\n",
    "\n",
    "print(\"\\nDisturbance term:\")\n",
    "display(disturbance)"
   ]
  }
 ],
 "metadata": {
  "kernelspec": {
   "display_name": "base",
   "language": "python",
   "name": "python3"
  },
  "language_info": {
   "codemirror_mode": {
    "name": "ipython",
    "version": 3
   },
   "file_extension": ".py",
   "mimetype": "text/x-python",
   "name": "python",
   "nbconvert_exporter": "python",
   "pygments_lexer": "ipython3",
   "version": "3.12.4"
  }
 },
 "nbformat": 4,
 "nbformat_minor": 5
}
